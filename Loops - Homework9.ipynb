{
 "cells": [
  {
   "cell_type": "code",
   "execution_count": 1,
   "metadata": {},
   "outputs": [
    {
     "name": "stdout",
     "output_type": "stream",
     "text": [
      "1 This number is odd\n",
      "4 This number is even\n",
      "5 This number is odd\n",
      "6 This number is even\n",
      "3 This number is odd\n",
      "2 This number is even\n",
      "7 This number is odd\n",
      "8 This number is even\n",
      "66 This number is even\n",
      "54 This number is even\n",
      "78 This number is even\n",
      "97 This number is odd\n",
      "54 This number is even\n",
      "34 This number is even\n",
      "67 This number is odd\n",
      "65 This number is odd\n",
      "56 This number is even\n",
      "45 This number is odd\n",
      "54 This number is even\n"
     ]
    }
   ],
   "source": [
    "#Exercise One\n",
    "List_1=[1, 4, 5, 6, 3, 2, 7, 8, 66, 54, 78, 97, 54, 34, 67, 65, 56, 45, 54]\n",
    "for i in List_1:\n",
    "    if i % 2 == 0:\n",
    "          print (str(i) + ' This number is even')\n",
    "    else: print(str(i) + ' This number is odd')\n",
    "\n"
   ]
  },
  {
   "cell_type": "code",
   "execution_count": 2,
   "metadata": {},
   "outputs": [
    {
     "name": "stdout",
     "output_type": "stream",
     "text": [
      "1 This number is odd\n",
      "4 This number is even\n",
      "5 This number is odd\n",
      "6 This number is even\n",
      "3 This number is odd\n",
      "2 This number is even\n",
      "7 This number is odd\n",
      "8 This number is even\n",
      "66 This number is even\n"
     ]
    }
   ],
   "source": [
    "#Stops at the value 66\n",
    "List_1=[1, 4, 5, 6, 3, 2, 7, 8, 66, 54, 78, 97, 54, 34, 67, 65, 56, 45, 54]\n",
    "for i in List_1[:9]:\n",
    "    if i % 2 == 0:\n",
    "        print (str(i) + ' This number is even')\n",
    "    else: print(str(i) + ' This number is odd')"
   ]
  },
  {
   "cell_type": "code",
   "execution_count": 3,
   "metadata": {},
   "outputs": [
    {
     "name": "stdout",
     "output_type": "stream",
     "text": [
      "1 This number is odd\n",
      "4 This number is even\n",
      "5 This number is odd\n",
      "6 This number is even\n",
      "3 This number is odd\n",
      "2 This number is even\n",
      "7 This number is odd\n",
      "54 This number is even\n",
      "78 This number is even\n",
      "97 This number is odd\n",
      "54 This number is even\n",
      "34 This number is even\n",
      "67 This number is odd\n",
      "65 This number is odd\n"
     ]
    }
   ],
   "source": [
    "#Loop skips over the value 8 and stops when it reaches the value 65\n",
    "List_1=[1, 4, 5, 6, 3, 2, 7, 8, 66, 54, 78, 97, 54, 34, 67, 65, 56, 45, 54]\n",
    "for i in List_1[0:7] + List_1[9:16]:\n",
    "    if i % 2 == 0:\n",
    "        print (str(i) + ' This number is even')\n",
    "    else: print(str(i) + ' This number is odd')"
   ]
  },
  {
   "cell_type": "code",
   "execution_count": 4,
   "metadata": {},
   "outputs": [
    {
     "name": "stdout",
     "output_type": "stream",
     "text": [
      "1\n",
      "The number above is odd\n",
      "2\n",
      "The number above is even\n",
      "3\n",
      "The number above is odd\n",
      "4\n",
      "The number above is even\n",
      "5\n",
      "The number above is odd\n",
      "6\n",
      "The number above is even\n",
      "7\n",
      "The number above is odd\n",
      "8\n",
      "The number above is even\n",
      "9\n",
      "The number above is odd\n"
     ]
    }
   ],
   "source": [
    "#Exercise Two\n",
    "#Write a program which uses a while loop\n",
    "x = 1\n",
    "while x < 10:\n",
    "    print(x)\n",
    "    if (x % 2 == 0):\n",
    "        print (\"The number above is even\")\n",
    "    else: \n",
    "        print (\"The number above is odd\")\n",
    "    x = x + 1\n"
   ]
  },
  {
   "cell_type": "code",
   "execution_count": 5,
   "metadata": {},
   "outputs": [
    {
     "name": "stdout",
     "output_type": "stream",
     "text": [
      "1\n",
      "The number above is odd\n",
      "2\n",
      "The number above is even\n",
      "3\n",
      "The number above is odd\n",
      "4\n",
      "The number above is even\n",
      "5\n",
      "The number above is odd\n",
      "6\n",
      "The number above is even\n",
      "7\n",
      "The number above is odd\n",
      "8\n",
      "The number above is even\n",
      "9\n",
      "The number above is odd\n"
     ]
    }
   ],
   "source": [
    "#Transform it so that it uses the for loop to produce the same output.\n",
    "for x in range(1,10):\n",
    "    print(x)\n",
    "    if (x % 2 == 0):\n",
    "        print (\"The number above is even\")\n",
    "    else: \n",
    "        print (\"The number above is odd\")\n",
    "    x = x + 1 \n",
    "    \n"
   ]
  },
  {
   "cell_type": "code",
   "execution_count": null,
   "metadata": {},
   "outputs": [],
   "source": []
  }
 ],
 "metadata": {
  "kernelspec": {
   "display_name": "Python 3",
   "language": "python",
   "name": "python3"
  },
  "language_info": {
   "codemirror_mode": {
    "name": "ipython",
    "version": 3
   },
   "file_extension": ".py",
   "mimetype": "text/x-python",
   "name": "python",
   "nbconvert_exporter": "python",
   "pygments_lexer": "ipython3",
   "version": "3.7.0"
  }
 },
 "nbformat": 4,
 "nbformat_minor": 2
}
