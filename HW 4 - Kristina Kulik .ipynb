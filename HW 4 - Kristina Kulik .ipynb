{
 "cells": [
  {
   "cell_type": "code",
   "execution_count": 8,
   "metadata": {},
   "outputs": [
    {
     "name": "stdout",
     "output_type": "stream",
     "text": [
      "Jsmith\n"
     ]
    }
   ],
   "source": [
    "#HW Exercise One\n",
    "First_name='John'\n",
    "last_name='Smith'\n",
    "result = First_name[:1]+last_name.lower()\n",
    "print(result)"
   ]
  },
  {
   "cell_type": "code",
   "execution_count": 14,
   "metadata": {},
   "outputs": [
    {
     "name": "stdout",
     "output_type": "stream",
     "text": [
      "Secret\n"
     ]
    }
   ],
   "source": [
    "#Exercise 2\n",
    "message = 'Send eagle cross rainbow entire time'\n",
    "code = message[0]+message[5]+message[11]+message[17]+message[25]+message[32]\n",
    "print(code)\n",
    "#Secret"
   ]
  },
  {
   "cell_type": "code",
   "execution_count": 96,
   "metadata": {},
   "outputs": [
    {
     "name": "stdout",
     "output_type": "stream",
     "text": [
      "109 101 115 115 97 103 101\n",
      "message\n"
     ]
    }
   ],
   "source": [
    "#Exercise 3\n",
    "\n",
    "#Encrypting\n",
    "sp = ' '\n",
    "code = str(ord('m'))+sp+str(ord('e'))+sp+str(ord('s'))+sp+str(ord('s'))+sp+str(ord('a'))+sp+str(ord('g'))+sp+str(ord('e'))\n",
    "print (code)\n",
    "\n",
    "#Decrypting\n",
    "text = chr(int(code[0:3]))+chr(int(code[4:7]))+chr(int(code[8:11]))+chr(int(code[12:15]))+chr(int(code[16:18]))+chr(int(code[19:22]))+chr(int(code[23:26]))\n",
    "print(text)"
   ]
  },
  {
   "cell_type": "code",
   "execution_count": null,
   "metadata": {},
   "outputs": [],
   "source": []
  }
 ],
 "metadata": {
  "kernelspec": {
   "display_name": "Python 3",
   "language": "python",
   "name": "python3"
  },
  "language_info": {
   "codemirror_mode": {
    "name": "ipython",
    "version": 3
   },
   "file_extension": ".py",
   "mimetype": "text/x-python",
   "name": "python",
   "nbconvert_exporter": "python",
   "pygments_lexer": "ipython3",
   "version": "3.7.0"
  }
 },
 "nbformat": 4,
 "nbformat_minor": 2
}
