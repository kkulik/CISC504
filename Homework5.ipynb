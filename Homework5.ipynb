{
 "cells": [
  {
   "cell_type": "code",
   "execution_count": 59,
   "metadata": {},
   "outputs": [
    {
     "data": {
      "application/vnd.jupyter.widget-view+json": {
       "model_id": "c9acedf4bed34ff0a06238e3120f33fb",
       "version_major": 2,
       "version_minor": 0
      },
      "text/plain": [
       "Turtle()"
      ]
     },
     "metadata": {},
     "output_type": "display_data"
    }
   ],
   "source": [
    "from mobilechelonian import Turtle\n",
    "t=Turtle()\n",
    "#head\n",
    "def circle_object(radius,angle):\n",
    "    t.circle(radius,angle)\n",
    "circle_object(25,360)\n",
    "\n",
    "#body and hands\n",
    "t.right(90)\n",
    "t.forward(50)\n",
    "t.right(135)\n",
    "t.forward(50)\n",
    "t.right(180)\n",
    "t.forward(50)\n",
    "t.left(90)\n",
    "t.forward(50)\n",
    "t.right(180)\n",
    "t.forward(50)\n",
    "t.left(45)\n",
    "\n",
    "#skirt\n",
    "t.left(30)\n",
    "t.forward(100)\n",
    "t.right(120)\n",
    "t.forward(100)\n",
    "t.right(120)\n",
    "t.forward(100)\n",
    "t.right(180)\n",
    "t.forward(100)\n",
    "t.left(120)\n",
    "t.forward(40)\n",
    "\n",
    "#legs\n",
    "t.right(90)\n",
    "t.forward(40)\n",
    "t.left(90)\n",
    "t.forward(5)\n",
    "t.left(90)\n",
    "t.forward(40)\n",
    "t.right(90)\n",
    "t.forward(5)\n",
    "t.right(90)\n",
    "t.forward(40)\n",
    "t.left(90)\n",
    "t.forward(5)\n",
    "t.left(90)\n",
    "t.forward(40)\n",
    "t.right(90)\n",
    "t.forward(45)\n",
    "\n",
    "t.left(120)\n",
    "t.forward(100)\n",
    "t.right(30)\n",
    "\n"
   ]
  },
  {
   "cell_type": "code",
   "execution_count": null,
   "metadata": {},
   "outputs": [],
   "source": []
  }
 ],
 "metadata": {
  "kernelspec": {
   "display_name": "Python 3",
   "language": "python",
   "name": "python3"
  },
  "language_info": {
   "codemirror_mode": {
    "name": "ipython",
    "version": 3
   },
   "file_extension": ".py",
   "mimetype": "text/x-python",
   "name": "python",
   "nbconvert_exporter": "python",
   "pygments_lexer": "ipython3",
   "version": "3.7.0"
  }
 },
 "nbformat": 4,
 "nbformat_minor": 2
}
