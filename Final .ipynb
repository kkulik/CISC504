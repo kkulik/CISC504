{
 "cells": [
  {
   "cell_type": "code",
   "execution_count": 2,
   "metadata": {},
   "outputs": [
    {
     "data": {
      "text/html": [
       "<div>\n",
       "<style scoped>\n",
       "    .dataframe tbody tr th:only-of-type {\n",
       "        vertical-align: middle;\n",
       "    }\n",
       "\n",
       "    .dataframe tbody tr th {\n",
       "        vertical-align: top;\n",
       "    }\n",
       "\n",
       "    .dataframe thead th {\n",
       "        text-align: right;\n",
       "    }\n",
       "</style>\n",
       "<table border=\"1\" class=\"dataframe\">\n",
       "  <thead>\n",
       "    <tr style=\"text-align: right;\">\n",
       "      <th></th>\n",
       "      <th>ABMSCertified</th>\n",
       "      <th>AcceptedPaymentMethods</th>\n",
       "      <th>ACGMEAccreditation</th>\n",
       "      <th>ActiveCredentialOtherState</th>\n",
       "      <th>AmericanIndianAlaskaNativeRace</th>\n",
       "      <th>AnnualWeeksWorked</th>\n",
       "      <th>AOAAccreditation</th>\n",
       "      <th>AOACertified</th>\n",
       "      <th>AsianRace</th>\n",
       "      <th>AudiologyAssistantEducation</th>\n",
       "      <th>...</th>\n",
       "      <th>ThirdPracticeStreetAddress2</th>\n",
       "      <th>ThirdPracticeZip</th>\n",
       "      <th>UnspervisedPracticeLocationType</th>\n",
       "      <th>VolunteerHoursAdministration</th>\n",
       "      <th>VolunteerHoursEducation</th>\n",
       "      <th>VolunteerHoursOther</th>\n",
       "      <th>VolunteerHoursPatientCareInState</th>\n",
       "      <th>VolunteerHoursPatientOutState</th>\n",
       "      <th>VolunteerHoursResearch</th>\n",
       "      <th>WorkStatus</th>\n",
       "    </tr>\n",
       "  </thead>\n",
       "  <tbody>\n",
       "    <tr>\n",
       "      <th>0</th>\n",
       "      <td>NaN</td>\n",
       "      <td>NaN</td>\n",
       "      <td>NaN</td>\n",
       "      <td>0.0</td>\n",
       "      <td>NaN</td>\n",
       "      <td>17.0</td>\n",
       "      <td>NaN</td>\n",
       "      <td>NaN</td>\n",
       "      <td>NaN</td>\n",
       "      <td>NaN</td>\n",
       "      <td>...</td>\n",
       "      <td>NaN</td>\n",
       "      <td>NaN</td>\n",
       "      <td>NaN</td>\n",
       "      <td>NaN</td>\n",
       "      <td>NaN</td>\n",
       "      <td>NaN</td>\n",
       "      <td>NaN</td>\n",
       "      <td>NaN</td>\n",
       "      <td>NaN</td>\n",
       "      <td>1.0</td>\n",
       "    </tr>\n",
       "    <tr>\n",
       "      <th>1</th>\n",
       "      <td>NaN</td>\n",
       "      <td>NaN</td>\n",
       "      <td>NaN</td>\n",
       "      <td>0.0</td>\n",
       "      <td>NaN</td>\n",
       "      <td>0.0</td>\n",
       "      <td>NaN</td>\n",
       "      <td>NaN</td>\n",
       "      <td>NaN</td>\n",
       "      <td>NaN</td>\n",
       "      <td>...</td>\n",
       "      <td>NaN</td>\n",
       "      <td>NaN</td>\n",
       "      <td>NaN</td>\n",
       "      <td>NaN</td>\n",
       "      <td>NaN</td>\n",
       "      <td>NaN</td>\n",
       "      <td>NaN</td>\n",
       "      <td>NaN</td>\n",
       "      <td>NaN</td>\n",
       "      <td>1.0</td>\n",
       "    </tr>\n",
       "    <tr>\n",
       "      <th>2</th>\n",
       "      <td>NaN</td>\n",
       "      <td>NaN</td>\n",
       "      <td>NaN</td>\n",
       "      <td>NaN</td>\n",
       "      <td>NaN</td>\n",
       "      <td>50.0</td>\n",
       "      <td>NaN</td>\n",
       "      <td>NaN</td>\n",
       "      <td>NaN</td>\n",
       "      <td>NaN</td>\n",
       "      <td>...</td>\n",
       "      <td>NaN</td>\n",
       "      <td>NaN</td>\n",
       "      <td>NaN</td>\n",
       "      <td>NaN</td>\n",
       "      <td>NaN</td>\n",
       "      <td>NaN</td>\n",
       "      <td>NaN</td>\n",
       "      <td>NaN</td>\n",
       "      <td>NaN</td>\n",
       "      <td>NaN</td>\n",
       "    </tr>\n",
       "    <tr>\n",
       "      <th>3</th>\n",
       "      <td>NaN</td>\n",
       "      <td>NaN</td>\n",
       "      <td>NaN</td>\n",
       "      <td>1.0</td>\n",
       "      <td>NaN</td>\n",
       "      <td>46.0</td>\n",
       "      <td>NaN</td>\n",
       "      <td>NaN</td>\n",
       "      <td>NaN</td>\n",
       "      <td>NaN</td>\n",
       "      <td>...</td>\n",
       "      <td>NaN</td>\n",
       "      <td>NaN</td>\n",
       "      <td>NaN</td>\n",
       "      <td>NaN</td>\n",
       "      <td>NaN</td>\n",
       "      <td>NaN</td>\n",
       "      <td>NaN</td>\n",
       "      <td>NaN</td>\n",
       "      <td>NaN</td>\n",
       "      <td>1.0</td>\n",
       "    </tr>\n",
       "    <tr>\n",
       "      <th>4</th>\n",
       "      <td>NaN</td>\n",
       "      <td>NaN</td>\n",
       "      <td>NaN</td>\n",
       "      <td>0.0</td>\n",
       "      <td>NaN</td>\n",
       "      <td>50.0</td>\n",
       "      <td>NaN</td>\n",
       "      <td>NaN</td>\n",
       "      <td>NaN</td>\n",
       "      <td>NaN</td>\n",
       "      <td>...</td>\n",
       "      <td>NaN</td>\n",
       "      <td>NaN</td>\n",
       "      <td>NaN</td>\n",
       "      <td>NaN</td>\n",
       "      <td>NaN</td>\n",
       "      <td>NaN</td>\n",
       "      <td>NaN</td>\n",
       "      <td>NaN</td>\n",
       "      <td>NaN</td>\n",
       "      <td>1.0</td>\n",
       "    </tr>\n",
       "  </tbody>\n",
       "</table>\n",
       "<p>5 rows × 128 columns</p>\n",
       "</div>"
      ],
      "text/plain": [
       "  ABMSCertified AcceptedPaymentMethods ACGMEAccreditation  \\\n",
       "0           NaN                    NaN                NaN   \n",
       "1           NaN                    NaN                NaN   \n",
       "2           NaN                    NaN                NaN   \n",
       "3           NaN                    NaN                NaN   \n",
       "4           NaN                    NaN                NaN   \n",
       "\n",
       "   ActiveCredentialOtherState AmericanIndianAlaskaNativeRace  \\\n",
       "0                         0.0                            NaN   \n",
       "1                         0.0                            NaN   \n",
       "2                         NaN                            NaN   \n",
       "3                         1.0                            NaN   \n",
       "4                         0.0                            NaN   \n",
       "\n",
       "   AnnualWeeksWorked AOAAccreditation AOACertified AsianRace  \\\n",
       "0               17.0              NaN          NaN       NaN   \n",
       "1                0.0              NaN          NaN       NaN   \n",
       "2               50.0              NaN          NaN       NaN   \n",
       "3               46.0              NaN          NaN       NaN   \n",
       "4               50.0              NaN          NaN       NaN   \n",
       "\n",
       "  AudiologyAssistantEducation     ...     ThirdPracticeStreetAddress2  \\\n",
       "0                         NaN     ...                             NaN   \n",
       "1                         NaN     ...                             NaN   \n",
       "2                         NaN     ...                             NaN   \n",
       "3                         NaN     ...                             NaN   \n",
       "4                         NaN     ...                             NaN   \n",
       "\n",
       "  ThirdPracticeZip  UnspervisedPracticeLocationType  \\\n",
       "0              NaN                              NaN   \n",
       "1              NaN                              NaN   \n",
       "2              NaN                              NaN   \n",
       "3              NaN                              NaN   \n",
       "4              NaN                              NaN   \n",
       "\n",
       "   VolunteerHoursAdministration VolunteerHoursEducation VolunteerHoursOther  \\\n",
       "0                           NaN                     NaN                 NaN   \n",
       "1                           NaN                     NaN                 NaN   \n",
       "2                           NaN                     NaN                 NaN   \n",
       "3                           NaN                     NaN                 NaN   \n",
       "4                           NaN                     NaN                 NaN   \n",
       "\n",
       "  VolunteerHoursPatientCareInState  VolunteerHoursPatientOutState  \\\n",
       "0                              NaN                            NaN   \n",
       "1                              NaN                            NaN   \n",
       "2                              NaN                            NaN   \n",
       "3                              NaN                            NaN   \n",
       "4                              NaN                            NaN   \n",
       "\n",
       "   VolunteerHoursResearch  WorkStatus  \n",
       "0                     NaN         1.0  \n",
       "1                     NaN         1.0  \n",
       "2                     NaN         NaN  \n",
       "3                     NaN         1.0  \n",
       "4                     NaN         1.0  \n",
       "\n",
       "[5 rows x 128 columns]"
      ]
     },
     "execution_count": 2,
     "metadata": {},
     "output_type": "execute_result"
    }
   ],
   "source": [
    "#Exercise 1  \n",
    "#a) Import the posted Excel file, Washington_Health_Workforce_Survey_Data.xls \n",
    "import numpy as np\n",
    "import pandas as pd\n",
    "import matplotlib.pyplot as plt\n",
    "import seaborn as sns\n",
    "\n",
    "import os\n",
    "os.chdir('/Users/kristilia1/Desktop')\n",
    "cwd = os.getcwd()\n",
    "cwd\n",
    "\n",
    "dataframe1 = pd.read_excel('Washington_Health_Workforce_Survey_Data.xls')\n",
    "dataframe1.head()"
   ]
  },
  {
   "cell_type": "code",
   "execution_count": 3,
   "metadata": {},
   "outputs": [
    {
     "data": {
      "text/html": [
       "<div>\n",
       "<style scoped>\n",
       "    .dataframe tbody tr th:only-of-type {\n",
       "        vertical-align: middle;\n",
       "    }\n",
       "\n",
       "    .dataframe tbody tr th {\n",
       "        vertical-align: top;\n",
       "    }\n",
       "\n",
       "    .dataframe thead th {\n",
       "        text-align: right;\n",
       "    }\n",
       "</style>\n",
       "<table border=\"1\" class=\"dataframe\">\n",
       "  <thead>\n",
       "    <tr style=\"text-align: right;\">\n",
       "      <th></th>\n",
       "      <th>NumberYearsPracticeWashington</th>\n",
       "      <th>BirthYear</th>\n",
       "    </tr>\n",
       "  </thead>\n",
       "  <tbody>\n",
       "    <tr>\n",
       "      <th>NumberYearsPracticeWashington</th>\n",
       "      <td>1.000000</td>\n",
       "      <td>-0.587643</td>\n",
       "    </tr>\n",
       "    <tr>\n",
       "      <th>BirthYear</th>\n",
       "      <td>-0.587643</td>\n",
       "      <td>1.000000</td>\n",
       "    </tr>\n",
       "  </tbody>\n",
       "</table>\n",
       "</div>"
      ],
      "text/plain": [
       "                               NumberYearsPracticeWashington  BirthYear\n",
       "NumberYearsPracticeWashington                       1.000000  -0.587643\n",
       "BirthYear                                          -0.587643   1.000000"
      ]
     },
     "execution_count": 3,
     "metadata": {},
     "output_type": "execute_result"
    }
   ],
   "source": [
    "#b.1) Calculate and interpret a correlation measure for 'NumberYearsPracticeWashington' and 'BirthYear' variables, what does the result indicate?\n",
    "dataframe1[[\"NumberYearsPracticeWashington\",\"BirthYear\"]].corr()\n",
    "#There two variables are negatively correlated: the higher the birth year (i.e. a person is younger) the lower the number of years of practice in Washington\n",
    "#However, the correlation (approximately -0.6) is not very strong "
   ]
  },
  {
   "cell_type": "code",
   "execution_count": 4,
   "metadata": {},
   "outputs": [
    {
     "name": "stdout",
     "output_type": "stream",
     "text": [
      "The median is 48.0\n"
     ]
    },
    {
     "data": {
      "text/plain": [
       "0        17.0\n",
       "1         0.0\n",
       "2        50.0\n",
       "3        46.0\n",
       "4        50.0\n",
       "5        40.0\n",
       "6        50.0\n",
       "7        30.0\n",
       "8        24.0\n",
       "9         1.0\n",
       "10       25.0\n",
       "11       40.0\n",
       "12       36.0\n",
       "13       52.0\n",
       "14       52.0\n",
       "15       42.0\n",
       "16        8.0\n",
       "17       50.0\n",
       "18       48.0\n",
       "19       48.0\n",
       "20       50.0\n",
       "21       40.0\n",
       "22       25.0\n",
       "23        0.0\n",
       "24       52.0\n",
       "25       30.0\n",
       "26       40.0\n",
       "27       52.0\n",
       "28       51.0\n",
       "29       50.0\n",
       "         ... \n",
       "25255     0.0\n",
       "25256     0.0\n",
       "25257    49.0\n",
       "25258    48.0\n",
       "25259    50.0\n",
       "25260     1.0\n",
       "25261    50.0\n",
       "25262    48.0\n",
       "25263     0.0\n",
       "25264     4.0\n",
       "25265    50.0\n",
       "25266    12.0\n",
       "25267    50.0\n",
       "25268    50.0\n",
       "25269    48.0\n",
       "25270    52.0\n",
       "25271    52.0\n",
       "25272    50.0\n",
       "25273    30.0\n",
       "25274    10.0\n",
       "25275     5.0\n",
       "25276    50.0\n",
       "25277    50.0\n",
       "25278     0.0\n",
       "25279    48.0\n",
       "25280    50.0\n",
       "25281    50.0\n",
       "25282    50.0\n",
       "25283    48.0\n",
       "25284    50.0\n",
       "Name: AnnualWeeksWorked, Length: 25285, dtype: float64"
      ]
     },
     "execution_count": 4,
     "metadata": {},
     "output_type": "execute_result"
    }
   ],
   "source": [
    "#b.2) Impute the missing values for the 'AnnualWeeksWorked' variable by the median.\n",
    "median = dataframe1[\"AnnualWeeksWorked\"].median()\n",
    "print (\"The median is\", median)\n",
    "dataframe1[\"AnnualWeeksWorked\"].fillna(median, inplace=True)\n",
    "dataframe1[\"AnnualWeeksWorked\"]"
   ]
  },
  {
   "cell_type": "code",
   "execution_count": 5,
   "metadata": {},
   "outputs": [
    {
     "data": {
      "text/plain": [
       "39.29867233537671"
      ]
     },
     "execution_count": 5,
     "metadata": {},
     "output_type": "execute_result"
    }
   ],
   "source": [
    "#b.3) Calculate the mean for the 'AnnualWeeksWorked' variable (after the imputation)\n",
    "mean = dataframe1[\"AnnualWeeksWorked\"].mean()\n",
    "mean"
   ]
  },
  {
   "cell_type": "code",
   "execution_count": 6,
   "metadata": {},
   "outputs": [
    {
     "name": "stdout",
     "output_type": "stream",
     "text": [
      "median 48.0 mean 40.48503591380686\n"
     ]
    },
    {
     "data": {
      "text/plain": [
       "7518"
      ]
     },
     "execution_count": 6,
     "metadata": {},
     "output_type": "execute_result"
    }
   ],
   "source": [
    "#c) Compute the same statistics (mean and median) of 'AnnualWeeksWorked' variable' for male and females separately.\n",
    "#For men\n",
    "datamen = dataframe1[dataframe1[\"Sex\"] == \"Male\"]\n",
    "meanmen = datamen[\"AnnualWeeksWorked\"].mean()\n",
    "medianmen = datamen[\"AnnualWeeksWorked\"].median()\n",
    "print(\"median\", medianmen, \"mean\", meanmen)\n",
    "#len(datamen[\"AnnualWeeksWorked\"])"
   ]
  },
  {
   "cell_type": "code",
   "execution_count": 7,
   "metadata": {},
   "outputs": [
    {
     "name": "stdout",
     "output_type": "stream",
     "text": [
      "median 48.0 mean 38.668536261962416\n"
     ]
    },
    {
     "data": {
      "text/plain": [
       "17346"
      ]
     },
     "execution_count": 7,
     "metadata": {},
     "output_type": "execute_result"
    }
   ],
   "source": [
    "#For women\n",
    "datawomen = dataframe1[dataframe1[\"Sex\"] == \"Female\"]\n",
    "meanwomen = datawomen[\"AnnualWeeksWorked\"].mean()\n",
    "medianwomen = datawomen[\"AnnualWeeksWorked\"].median()\n",
    "print(\"median\", medianwomen, \"mean\", meanwomen)\n",
    "#len(datawomen[\"AnnualWeeksWorked\"])"
   ]
  },
  {
   "cell_type": "code",
   "execution_count": 42,
   "metadata": {},
   "outputs": [
    {
     "data": {
      "text/plain": [
       "<seaborn.axisgrid.FacetGrid at 0x1a1f0ae668>"
      ]
     },
     "execution_count": 42,
     "metadata": {},
     "output_type": "execute_result"
    },
    {
     "data": {
      "image/png": "[encoded data removed]",
      "text/plain": [
       "<Figure size 648x216 with 3 Axes>"
      ]
     },
     "metadata": {
      "needs_background": "light"
     },
     "output_type": "display_data"
    }
   ],
   "source": [
    "#d) Using seaborn package, develop an informative visualization of the distribution of the 'AnnualWeeksWorked' for males and females.\n",
    "\n",
    "g = sns.FacetGrid(dataframe1, col=\"Sex\")\n",
    "g.map(plt.hist, \"AnnualWeeksWorked\")\n",
    "\n",
    "#This visualization shows that women have a larger sample, however the distribution is quite similar\n",
    "#This explained by the data statistics, since two sample have the same median and the means not too far apart"
   ]
  },
  {
   "cell_type": "code",
   "execution_count": 8,
   "metadata": {},
   "outputs": [
    {
     "name": "stdout",
     "output_type": "stream",
     "text": [
      "The octopus snagged the blue fish\n",
      "What is the new subject? :shark\n",
      "What is the new verb? :ate\n",
      "What is the new adjective? :huge\n",
      "What is the new obj? :tuna\n",
      "The shark ate the huge tuna\n"
     ]
    }
   ],
   "source": [
    "#Exercise 2\n",
    "#Develop and code a word parsing program which replaces certain grammatical elements in a phrase with user input\n",
    "\n",
    "#Print initial sentence \n",
    "phrase = 'The octopus snagged the blue fish'\n",
    "subject = phrase.split()[1:2][0]\n",
    "verb = phrase.split()[2:3][0]\n",
    "adjective = phrase.split()[4:5][0]\n",
    "obj = phrase.split()[5:6][0]\n",
    "sentence = \"The \" + subject + (' ') + verb + \" the \" + adjective  + (' ') + obj\n",
    "print(sentence)\n",
    "\n",
    "#Request new words\n",
    "subject = input('What is the new subject? :')\n",
    "verb = input('What is the new verb? :')\n",
    "adjective = input('What is the new adjective? :')\n",
    "obj = input('What is the new obj? :')\n",
    "sentence = \"The \" + subject + (' ') + verb + \" the \" + adjective  + (' ') + obj\n",
    "print(sentence)\n"
   ]
  },
  {
   "cell_type": "code",
   "execution_count": 3,
   "metadata": {},
   "outputs": [
    {
     "name": "stdout",
     "output_type": "stream",
     "text": [
      "The random number is  66\n",
      "Guess:  50\n",
      "Is it too high/too low/just right? :too low\n",
      "too low\n",
      "Guess:  51\n",
      "Is it too high/too low/just right? :too low\n",
      "too low\n",
      "Guess:  52\n",
      "Is it too high/too low/just right? :too low\n",
      "too low\n",
      "Guess:  53\n",
      "Is it too high/too low/just right? :too low\n",
      "too low\n",
      "Guess:  54\n",
      "Is it too high/too low/just right? :too low\n",
      "too low\n",
      "Guess:  55\n",
      "Is it too high/too low/just right? :too low\n",
      "too low\n",
      "Guess:  56\n",
      "Is it too high/too low/just right? :too low\n",
      "too low\n",
      "Guess:  57\n",
      "Is it too high/too low/just right? :too low\n",
      "too low\n",
      "Guess:  58\n",
      "Is it too high/too low/just right? :too low\n",
      "too low\n",
      "Guess:  59\n",
      "Is it too high/too low/just right? :too low\n",
      "too low\n",
      "Guess:  60\n",
      "Is it too high/too low/just right? :too low\n",
      "too low\n",
      "Guess:  61\n",
      "Is it too high/too low/just right? :too low\n",
      "too low\n",
      "Guess:  62\n",
      "Is it too high/too low/just right? :too low\n",
      "too low\n",
      "Guess:  63\n",
      "Is it too high/too low/just right? :too low\n",
      "too low\n",
      "Guess:  64\n",
      "Is it too high/too low/just right? :too low\n",
      "too low\n",
      "Guess:  65\n",
      "Is it too high/too low/just right? :too low\n",
      "too low\n",
      "Guess:  66\n",
      "Is it too high/too low/just right? :just right\n",
      "just right\n",
      "good job!\n"
     ]
    }
   ],
   "source": [
    "#Exercise 3\n",
    "from random import randint\n",
    "random = randint(1, 100)\n",
    "print(\"The random number is \", random)\n",
    "\n",
    "\n",
    "s = list(range(1, 101))\n",
    "middle = s[int(len(s)/2)-1]\n",
    "\n",
    "\n",
    "while (middle > 0 ):\n",
    "    print(\"Guess: \", middle)\n",
    "    review = input('Is it too high/too low/just right? :')\n",
    "    print(review)\n",
    "    if review == 'too high':       \n",
    "        middle = middle - 1\n",
    "        \n",
    "    if review == 'too low':\n",
    "        middle = middle + 1\n",
    "        \n",
    "    if review == \"just right\":\n",
    "        print (\"good job!\")\n",
    "        break"
   ]
  },
  {
   "cell_type": "code",
   "execution_count": null,
   "metadata": {},
   "outputs": [],
   "source": []
  }
 ],
 "metadata": {
  "kernelspec": {
   "display_name": "Python 3",
   "language": "python",
   "name": "python3"
  },
  "language_info": {
   "codemirror_mode": {
    "name": "ipython",
    "version": 3
   },
   "file_extension": ".py",
   "mimetype": "text/x-python",
   "name": "python",
   "nbconvert_exporter": "python",
   "pygments_lexer": "ipython3",
   "version": "3.7.0"
  }
 },
 "nbformat": 4,
 "nbformat_minor": 2
}
