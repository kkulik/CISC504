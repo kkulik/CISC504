{
 "cells": [
  {
   "cell_type": "code",
   "execution_count": 5,
   "metadata": {},
   "outputs": [
    {
     "data": {
      "text/plain": [
       "35"
      ]
     },
     "execution_count": 5,
     "metadata": {},
     "output_type": "execute_result"
    }
   ],
   "source": [
    "def sum(a,b,c,d,e,f):\n",
    "    return a+b+c+d+e+f\n",
    "sum(5,8,2,4,7,9)"
   ]
  },
  {
   "cell_type": "code",
   "execution_count": 7,
   "metadata": {},
   "outputs": [
    {
     "data": {
      "text/plain": [
       "720"
      ]
     },
     "execution_count": 7,
     "metadata": {},
     "output_type": "execute_result"
    }
   ],
   "source": [
    "def multiply(a,b,c,d,e):\n",
    "    return a*b*c*d*e\n",
    "multiply(4,3,5,6,2)"
   ]
  },
  {
   "cell_type": "code",
   "execution_count": 48,
   "metadata": {},
   "outputs": [
    {
     "name": "stdout",
     "output_type": "stream",
     "text": [
      "[[5 5 8 8 9 8]\n",
      " [7 7 5 3 5 7]\n",
      " [8 7 8 4 2 6]\n",
      " [9 9 7 3 1 4]]\n",
      "[1 2 3 3 4 4 5 5 5 5 6 7 7 7 7 7 8 8 8 8 8 9 9 9]\n",
      "[5 7 7 9]\n",
      "[2 4 6 7 8 8]\n",
      "[[7 7 5 3 5 7]\n",
      " [8 7 8 4 2 6]\n",
      " [9 9 7 3 1 4]]\n",
      "[[8 8 9 8]\n",
      " [5 3 5 7]\n",
      " [8 4 2 6]\n",
      " [7 3 1 4]]\n",
      "[[25 25 64 64 81 64]\n",
      " [49 49 25  9 25 49]\n",
      " [64 49 64 16  4 36]\n",
      " [81 81 49  9  1 16]]\n",
      "4\n",
      "145\n",
      "2\n",
      "int64\n",
      "192\n"
     ]
    }
   ],
   "source": [
    "import numpy as np\n",
    "\n",
    "array_hw=np.array([[5,5,8,8,9,8],[7,7,5,3,5,7],[8,7,8,4,2,6],[9,9,7,3,1,4]])\n",
    "print(array_hw)\n",
    "\n",
    "#a) Sort the flattened array\n",
    "sort=np.sort(array_hw, axis=None)\n",
    "print(sort)\n",
    "\n",
    "#b) Sort the second column\n",
    "sort_col=np.sort(array_hw[...,1])\n",
    "print(sort_col)\n",
    "\n",
    "#c) Sort the third row\n",
    "sort_row=np.sort(array_hw[2,...])\n",
    "print(sort_row)\n",
    "\n",
    "#d) Extract the second row onwards\n",
    "extract_rows=array_hw[1:,...]\n",
    "print(extract_rows)\n",
    "\n",
    "#e) Extract the third column onwards\n",
    "extract_cols=array_hw[..., 2:]\n",
    "print(extract_cols)\n",
    "\n",
    "#f) obtain the square of array_hw\n",
    "arr_sqrd=np.square(array_hw)\n",
    "print(arr_sqrd)\n",
    "\n",
    "#g)Slice the element from the third row and fourth column position 3X4\n",
    "extract_element=array_hw[2, 3]\n",
    "print(extract_element)\n",
    "\n",
    "#f) obtain the total sum of array_hw\n",
    "arr_sum=array_hw.sum()\n",
    "print(arr_sum)\n",
    "\n",
    "#h) How many dimentions does array_hw have?\n",
    "arr_dim=array_hw.ndim\n",
    "print(arr_dim)\n",
    "\n",
    "#i) What is the data type listed in array_hw?\n",
    "arr_type=array_hw.dtype\n",
    "print(arr_type)\n",
    "\n",
    "#j) What is the size of the memory in bytes consumed by all the elements in array_hw?\n",
    "arr_memory=array_hw.nbytes\n",
    "print(arr_memory)\n"
   ]
  },
  {
   "cell_type": "code",
   "execution_count": null,
   "metadata": {},
   "outputs": [],
   "source": []
  }
 ],
 "metadata": {
  "kernelspec": {
   "display_name": "Python 3",
   "language": "python",
   "name": "python3"
  },
  "language_info": {
   "codemirror_mode": {
    "name": "ipython",
    "version": 3
   },
   "file_extension": ".py",
   "mimetype": "text/x-python",
   "name": "python",
   "nbconvert_exporter": "python",
   "pygments_lexer": "ipython3",
   "version": "3.7.0"
  }
 },
 "nbformat": 4,
 "nbformat_minor": 2
}
