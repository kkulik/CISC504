{
 "cells": [
  {
   "cell_type": "code",
   "execution_count": 34,
   "metadata": {},
   "outputs": [
    {
     "name": "stdout",
     "output_type": "stream",
     "text": [
      "Height (feet component): 5\n",
      "Height (inches component): 8\n",
      "Are you male or female: male\n",
      "68.0\n",
      "male\n",
      "Medium height\n"
     ]
    }
   ],
   "source": [
    "#Height Classification \n",
    "\n",
    "height_feet = float(input('Height (feet component): '))\n",
    "height_inches = float(input('Height (inches component): '))\n",
    "gender = str(input('Are you male or female: '))\n",
    "\n",
    "height = (12 * height_feet) + height_inches\n",
    "\n",
    "print (height)\n",
    "if (gender==\"male\"): \n",
    "    print (\"male\")\n",
    "    if height<64: print ('Short')\n",
    "    elif height<69: print ('Medium height')\n",
    "    else: print ('Tall')\n",
    "else: \n",
    "    print (\"female\")\n",
    "    if height<60: print ('Short')\n",
    "    elif height<65: print ('Medium height')\n",
    "    else: print ('Tall')"
   ]
  },
  {
   "cell_type": "code",
   "execution_count": 33,
   "metadata": {},
   "outputs": [
    {
     "name": "stdout",
     "output_type": "stream",
     "text": [
      "Error: Not possible to divide by 0\n",
      "7\n"
     ]
    }
   ],
   "source": [
    "#Division by zero exception\n",
    "\n",
    "a = 1\n",
    "b = 6\n",
    "c = 0 #can change to other integer\n",
    "\n",
    "try:\n",
    "   d = (a + b) / c\n",
    "except ZeroDivisionError:\n",
    "    print ('Error: Not possible to divide by 0')\n",
    "else:\n",
    "    print (d)\n",
    "finally:\n",
    "    print (a+b+c)"
   ]
  },
  {
   "cell_type": "code",
   "execution_count": null,
   "metadata": {},
   "outputs": [],
   "source": []
  }
 ],
 "metadata": {
  "kernelspec": {
   "display_name": "Python 3",
   "language": "python",
   "name": "python3"
  },
  "language_info": {
   "codemirror_mode": {
    "name": "ipython",
    "version": 3
   },
   "file_extension": ".py",
   "mimetype": "text/x-python",
   "name": "python",
   "nbconvert_exporter": "python",
   "pygments_lexer": "ipython3",
   "version": "3.7.0"
  }
 },
 "nbformat": 4,
 "nbformat_minor": 2
}
