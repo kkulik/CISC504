{
 "cells": [
  {
   "cell_type": "code",
   "execution_count": 1,
   "metadata": {},
   "outputs": [
    {
     "name": "stdout",
     "output_type": "stream",
     "text": [
      "what is the weight in ounces? :30\n",
      "The weight in grams is 850.5 gram\n"
     ]
    }
   ],
   "source": [
    "weight_in_ounces = float(input('what is the weight in ounces? :')) #variable assignment\n",
    "\n",
    "weight_in_grams= weight_in_ounces * 28.35 #expression\n",
    "\n",
    "print('The weight in grams is', weight_in_grams,'gram') #output\n"
   ]
  },
  {
   "cell_type": "code",
   "execution_count": null,
   "metadata": {},
   "outputs": [],
   "source": []
  }
 ],
 "metadata": {
  "kernelspec": {
   "display_name": "Python 3",
   "language": "python",
   "name": "python3"
  },
  "language_info": {
   "codemirror_mode": {
    "name": "ipython",
    "version": 3
   },
   "file_extension": ".py",
   "mimetype": "text/x-python",
   "name": "python",
   "nbconvert_exporter": "python",
   "pygments_lexer": "ipython3",
   "version": "3.7.0"
  }
 },
 "nbformat": 4,
 "nbformat_minor": 2
}
